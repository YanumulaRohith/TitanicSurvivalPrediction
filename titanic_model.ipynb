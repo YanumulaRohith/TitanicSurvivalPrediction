{
 "cells": [
  {
   "cell_type": "code",
   "execution_count": 65,
   "metadata": {},
   "outputs": [
    {
     "name": "stdout",
     "output_type": "stream",
     "text": [
      "   PassengerId  Survived  Pclass  \\\n",
      "0          892         0       3   \n",
      "1          893         1       3   \n",
      "2          894         0       2   \n",
      "3          895         0       3   \n",
      "4          896         1       3   \n",
      "\n",
      "                                           Name     Sex   Age  SibSp  Parch  \\\n",
      "0                              Kelly, Mr. James    male  34.5      0      0   \n",
      "1              Wilkes, Mrs. James (Ellen Needs)  female  47.0      1      0   \n",
      "2                     Myles, Mr. Thomas Francis    male  62.0      0      0   \n",
      "3                              Wirz, Mr. Albert    male  27.0      0      0   \n",
      "4  Hirvonen, Mrs. Alexander (Helga E Lindqvist)  female  22.0      1      1   \n",
      "\n",
      "    Ticket     Fare Cabin Embarked  \n",
      "0   330911   7.8292   NaN        Q  \n",
      "1   363272   7.0000   NaN        S  \n",
      "2   240276   9.6875   NaN        Q  \n",
      "3   315154   8.6625   NaN        S  \n",
      "4  3101298  12.2875   NaN        S  \n"
     ]
    }
   ],
   "source": [
    "import pandas as pd\n",
    "\n",
    "# Load dataset\n",
    "df = pd.read_csv(\"titanic.csv\")\n",
    "\n",
    "# Display first few rows of the dataset\n",
    "print(df.head())\n"
   ]
  },
  {
   "cell_type": "code",
   "execution_count": 66,
   "metadata": {},
   "outputs": [
    {
     "name": "stdout",
     "output_type": "stream",
     "text": [
      "<class 'pandas.core.frame.DataFrame'>\n",
      "RangeIndex: 418 entries, 0 to 417\n",
      "Data columns (total 12 columns):\n",
      " #   Column       Non-Null Count  Dtype  \n",
      "---  ------       --------------  -----  \n",
      " 0   PassengerId  418 non-null    int64  \n",
      " 1   Survived     418 non-null    int64  \n",
      " 2   Pclass       418 non-null    int64  \n",
      " 3   Name         418 non-null    object \n",
      " 4   Sex          418 non-null    object \n",
      " 5   Age          332 non-null    float64\n",
      " 6   SibSp        418 non-null    int64  \n",
      " 7   Parch        418 non-null    int64  \n",
      " 8   Ticket       418 non-null    object \n",
      " 9   Fare         417 non-null    float64\n",
      " 10  Cabin        91 non-null     object \n",
      " 11  Embarked     418 non-null    object \n",
      "dtypes: float64(2), int64(5), object(5)\n",
      "memory usage: 39.3+ KB\n",
      "None\n"
     ]
    }
   ],
   "source": [
    "print(df.info())"
   ]
  },
  {
   "cell_type": "code",
   "execution_count": 67,
   "metadata": {},
   "outputs": [
    {
     "name": "stdout",
     "output_type": "stream",
     "text": [
      "PassengerId      0\n",
      "Survived         0\n",
      "Pclass           0\n",
      "Name             0\n",
      "Sex              0\n",
      "Age             86\n",
      "SibSp            0\n",
      "Parch            0\n",
      "Ticket           0\n",
      "Fare             1\n",
      "Cabin          327\n",
      "Embarked         0\n",
      "dtype: int64\n"
     ]
    }
   ],
   "source": [
    "#checking the null values\n",
    "print(df.isnull().sum())"
   ]
  },
  {
   "cell_type": "code",
   "execution_count": 68,
   "metadata": {},
   "outputs": [],
   "source": [
    "#As Age,fare and cabin have null values we are handling\n",
    "# imputing the null values using mean for age and fare\n",
    "df['Age'].fillna(df['Age'].mean(), inplace=True)\n",
    "df['Fare'].fillna(df['Fare'].mean(), inplace=True)\n",
    "# imputing the null values using mean for Cabin\n",
    "df['Cabin'].fillna(df['Cabin'].mode()[0], inplace=True)"
   ]
  },
  {
   "cell_type": "code",
   "execution_count": 69,
   "metadata": {},
   "outputs": [
    {
     "name": "stdout",
     "output_type": "stream",
     "text": [
      "PassengerId    0\n",
      "Survived       0\n",
      "Pclass         0\n",
      "Name           0\n",
      "Sex            0\n",
      "Age            0\n",
      "SibSp          0\n",
      "Parch          0\n",
      "Ticket         0\n",
      "Fare           0\n",
      "Cabin          0\n",
      "Embarked       0\n",
      "dtype: int64\n"
     ]
    }
   ],
   "source": [
    "#confirming no null values in the dataset\n",
    "print(df.isnull().sum())"
   ]
  },
  {
   "cell_type": "code",
   "execution_count": 70,
   "metadata": {},
   "outputs": [
    {
     "name": "stdout",
     "output_type": "stream",
     "text": [
      "Number of outliers in 'Age': 36\n",
      "Number of outliers in 'Fare': 55\n",
      "Outlier rows:\n",
      "      PassengerId  Survived  Pclass  \\\n",
      "2            894         0       2   \n",
      "12           904         1       1   \n",
      "13           905         0       2   \n",
      "20           912         0       1   \n",
      "24           916         1       1   \n",
      "..           ...       ...     ...   \n",
      "400         1292         1       1   \n",
      "407         1299         0       1   \n",
      "409         1301         1       3   \n",
      "411         1303         1       1   \n",
      "414         1306         1       1   \n",
      "\n",
      "                                                Name     Sex   Age  SibSp  \\\n",
      "2                          Myles, Mr. Thomas Francis    male  62.0      0   \n",
      "12     Snyder, Mrs. John Pillsbury (Nelle Stevenson)  female  23.0      1   \n",
      "13                              Howard, Mr. Benjamin    male  63.0      1   \n",
      "20                            Rothschild, Mr. Martin    male  55.0      1   \n",
      "24   Ryerson, Mrs. Arthur Larned (Emily Maria Borie)  female  48.0      1   \n",
      "..                                               ...     ...   ...    ...   \n",
      "400                          Bonnell, Miss. Caroline  female  30.0      0   \n",
      "407                       Widener, Mr. George Dunton    male  50.0      1   \n",
      "409                        Peacock, Miss. Treasteall  female   3.0      1   \n",
      "411  Minahan, Mrs. William Edward (Lillian E Thorpe)  female  37.0      1   \n",
      "414                     Oliva y Ocana, Dona. Fermina  female  39.0      0   \n",
      "\n",
      "     Parch              Ticket      Fare            Cabin Embarked  \n",
      "2        0              240276    9.6875  B57 B59 B63 B66        Q  \n",
      "12       0               21228   82.2667              B45        S  \n",
      "13       0               24065   26.0000  B57 B59 B63 B66        S  \n",
      "20       0            PC 17603   59.4000  B57 B59 B63 B66        C  \n",
      "24       3            PC 17608  262.3750  B57 B59 B63 B66        C  \n",
      "..     ...                 ...       ...              ...      ...  \n",
      "400      0               36928  164.8667               C7        S  \n",
      "407      1              113503  211.5000              C80        C  \n",
      "409      1  SOTON/O.Q. 3101315   13.7750  B57 B59 B63 B66        S  \n",
      "411      0               19928   90.0000              C78        Q  \n",
      "414      0            PC 17758  108.9000             C105        C  \n",
      "\n",
      "[78 rows x 12 columns]\n"
     ]
    }
   ],
   "source": [
    "#Checking for the outliers in the dataset\n",
    "# Calculate Q1 (25th percentile) and Q3 (75th percentile) for numerical columns (Age, Fare)\n",
    "Q1 = df[['Age', 'Fare']].quantile(0.25)\n",
    "Q3 = df[['Age', 'Fare']].quantile(0.75)\n",
    "IQR = Q3 - Q1\n",
    "\n",
    "# Define lower and upper bounds for outliers\n",
    "lower_bound = Q1 - 1.5 * IQR\n",
    "upper_bound = Q3 + 1.5 * IQR\n",
    "\n",
    "# Identify outliers for 'Age' and 'Fare'\n",
    "outliers_iqr = (df[['Age', 'Fare']] < lower_bound) | (df[['Age', 'Fare']] > upper_bound)\n",
    "\n",
    "# Print the number of outliers detected for Age and Fare\n",
    "print(\"Number of outliers in 'Age':\", outliers_iqr['Age'].sum())\n",
    "print(\"Number of outliers in 'Fare':\", outliers_iqr['Fare'].sum())\n",
    "\n",
    "# Optionally, display rows with outliers\n",
    "outlier_rows_iqr = df[outliers_iqr.any(axis=1)]\n",
    "print(\"Outlier rows:\\n\", outlier_rows_iqr)\n"
   ]
  },
  {
   "cell_type": "code",
   "execution_count": 71,
   "metadata": {},
   "outputs": [
    {
     "data": {
      "image/png": "[encoded data removed]",
      "text/plain": [
       "<Figure size 1200x600 with 2 Axes>"
      ]
     },
     "metadata": {},
     "output_type": "display_data"
    }
   ],
   "source": [
    "import seaborn as sns\n",
    "import matplotlib.pyplot as plt\n",
    "\n",
    "# Create boxplots to visually check for outliers in 'Age' and 'Fare'\n",
    "plt.figure(figsize=(12, 6))\n",
    "\n",
    "# Age Boxplot\n",
    "plt.subplot(1, 2, 1)\n",
    "sns.boxplot(x=df['Age'])\n",
    "plt.title('Boxplot of Age')\n",
    "\n",
    "# Fare Boxplot\n",
    "plt.subplot(1, 2, 2)\n",
    "sns.boxplot(x=df['Fare'])\n",
    "plt.title('Boxplot of Fare')\n",
    "\n",
    "plt.tight_layout()\n",
    "plt.show()\n"
   ]
  },
  {
   "cell_type": "code",
   "execution_count": 72,
   "metadata": {},
   "outputs": [
    {
     "name": "stdout",
     "output_type": "stream",
     "text": [
      "Original DataFrame shape: (418, 12)\n",
      "DataFrame shape after removing outliers: (340, 12)\n"
     ]
    }
   ],
   "source": [
    "# Remove rows where outliers are detected\n",
    "df_no_outliers = df[~((df[['Age', 'Fare']] < lower_bound) | (df[['Age', 'Fare']] > upper_bound)).any(axis=1)]\n",
    "\n",
    "print(\"Original DataFrame shape:\", df.shape)\n",
    "print(\"DataFrame shape after removing outliers:\", df_no_outliers.shape)\n"
   ]
  },
  {
   "cell_type": "code",
   "execution_count": 73,
   "metadata": {},
   "outputs": [
    {
     "data": {
      "image/png": "[encoded data removed]",
      "text/plain": [
       "<Figure size 1200x600 with 2 Axes>"
      ]
     },
     "metadata": {},
     "output_type": "display_data"
    }
   ],
   "source": [
    "import seaborn as sns\n",
    "import matplotlib.pyplot as plt\n",
    "\n",
    "# Create boxplots to visually check for outliers in 'Age' and 'Fare'\n",
    "plt.figure(figsize=(12, 6))\n",
    "\n",
    "# Age Boxplot\n",
    "plt.subplot(1, 2, 1)\n",
    "sns.boxplot(x=df_no_outliers['Age'])\n",
    "plt.title('Boxplot of Age')\n",
    "\n",
    "# Fare Boxplot\n",
    "plt.subplot(1, 2, 2)\n",
    "sns.boxplot(x=df_no_outliers['Fare'])\n",
    "plt.title('Boxplot of Fare')\n",
    "\n",
    "plt.tight_layout()\n",
    "plt.show()\n"
   ]
  },
  {
   "cell_type": "code",
   "execution_count": 74,
   "metadata": {},
   "outputs": [
    {
     "name": "stderr",
     "output_type": "stream",
     "text": [
      "C:\\Users\\Rohith\\AppData\\Local\\Temp\\ipykernel_4676\\4029650563.py:2: SettingWithCopyWarning: \n",
      "A value is trying to be set on a copy of a slice from a DataFrame\n",
      "\n",
      "See the caveats in the documentation: https://pandas.pydata.org/pandas-docs/stable/user_guide/indexing.html#returning-a-view-versus-a-copy\n",
      "  df_no_outliers.drop(columns=['Name', 'Ticket', 'Cabin','SibSp', 'Parch'], inplace=True)\n"
     ]
    }
   ],
   "source": [
    "# Drop columns that are not needed for prediction\n",
    "df_no_outliers.drop(columns=['Name', 'Ticket', 'Cabin','SibSp', 'Parch'], inplace=True)"
   ]
  },
  {
   "cell_type": "code",
   "execution_count": 75,
   "metadata": {},
   "outputs": [
    {
     "name": "stderr",
     "output_type": "stream",
     "text": [
      "C:\\Users\\Rohith\\AppData\\Local\\Temp\\ipykernel_4676\\3696037822.py:2: SettingWithCopyWarning: \n",
      "A value is trying to be set on a copy of a slice from a DataFrame.\n",
      "Try using .loc[row_indexer,col_indexer] = value instead\n",
      "\n",
      "See the caveats in the documentation: https://pandas.pydata.org/pandas-docs/stable/user_guide/indexing.html#returning-a-view-versus-a-copy\n",
      "  df_no_outliers['Sex'] = df_no_outliers['Sex'].map({'male': 0, 'female': 1})\n"
     ]
    }
   ],
   "source": [
    "# Convert 'Sex' to binary (0 for male, 1 for female)\n",
    "df_no_outliers['Sex'] = df_no_outliers['Sex'].map({'male': 0, 'female': 1})\n",
    "# One-hot encode 'Embarked'\n",
    "df_no_outliers = pd.get_dummies(df_no_outliers, columns=['Embarked'], drop_first=True)"
   ]
  },
  {
   "cell_type": "code",
   "execution_count": 76,
   "metadata": {},
   "outputs": [],
   "source": [
    "# Features (X) and target (y)\n",
    "X = df_no_outliers.drop(columns=['Survived'])\n",
    "y = df_no_outliers['Survived']\n"
   ]
  },
  {
   "cell_type": "code",
   "execution_count": 77,
   "metadata": {},
   "outputs": [],
   "source": [
    "from sklearn.model_selection import train_test_split\n",
    "\n",
    "# Split the data into training and test sets (80% training, 20% testing)\n",
    "X_train, X_test, y_train, y_test = train_test_split(X, y, test_size=0.2, random_state=42)\n"
   ]
  },
  {
   "cell_type": "code",
   "execution_count": null,
   "metadata": {},
   "outputs": [
    {
     "name": "stdout",
     "output_type": "stream",
     "text": [
      "Accuracy:  1.0\n",
      "Confusion Matrix: \n",
      " [[43  0]\n",
      " [ 0 25]]\n",
      "Classification Report: \n",
      "               precision    recall  f1-score   support\n",
      "\n",
      "           0       1.00      1.00      1.00        43\n",
      "           1       1.00      1.00      1.00        25\n",
      "\n",
      "    accuracy                           1.00        68\n",
      "   macro avg       1.00      1.00      1.00        68\n",
      "weighted avg       1.00      1.00      1.00        68\n",
      "\n"
     ]
    }
   ],
   "source": [
    "#Logistic Regression Model\n",
    "from sklearn.linear_model import LogisticRegression\n",
    "from sklearn.metrics import accuracy_score, confusion_matrix, classification_report\n",
    "\n",
    "# Initialize the Logistic Regression model\n",
    "model = LogisticRegression(solver='liblinear', max_iter=200)\n",
    "\n",
    "# Train the model\n",
    "model.fit(X_train, y_train)\n",
    "\n",
    "# Make predictions on the test set\n",
    "y_pred = model.predict(X_test)\n",
    "\n",
    "# Evaluate the model\n",
    "accuracy = accuracy_score(y_test, y_pred)\n",
    "conf_matrix = confusion_matrix(y_test, y_pred)\n",
    "report = classification_report(y_test, y_pred)\n",
    "\n",
    "print(\"Accuracy: \", accuracy)\n",
    "print(\"Confusion Matrix: \\n\", conf_matrix)\n",
    "print(\"Classification Report: \\n\", report)\n"
   ]
  },
  {
   "cell_type": "code",
   "execution_count": 80,
   "metadata": {},
   "outputs": [
    {
     "name": "stdout",
     "output_type": "stream",
     "text": [
      "Accuracy:  1.0\n",
      "Confusion Matrix: \n",
      " [[43  0]\n",
      " [ 0 25]]\n",
      "Classification Report: \n",
      "               precision    recall  f1-score   support\n",
      "\n",
      "           0       1.00      1.00      1.00        43\n",
      "           1       1.00      1.00      1.00        25\n",
      "\n",
      "    accuracy                           1.00        68\n",
      "   macro avg       1.00      1.00      1.00        68\n",
      "weighted avg       1.00      1.00      1.00        68\n",
      "\n"
     ]
    }
   ],
   "source": [
    "#Random Forest Classifer model\n",
    "from sklearn.ensemble import RandomForestClassifier\n",
    "\n",
    "# Initialize the Random Forest model\n",
    "model = RandomForestClassifier(n_estimators=100, random_state=42)\n",
    "\n",
    "# Train the model\n",
    "model.fit(X_train, y_train)\n",
    "\n",
    "# Make predictions on the test set\n",
    "y_pred = model.predict(X_test)\n",
    "\n",
    "# Evaluate the model\n",
    "accuracy = accuracy_score(y_test, y_pred)\n",
    "conf_matrix = confusion_matrix(y_test, y_pred)\n",
    "report = classification_report(y_test, y_pred)\n",
    "\n",
    "print(\"Accuracy: \", accuracy)\n",
    "print(\"Confusion Matrix: \\n\", conf_matrix)\n",
    "print(\"Classification Report: \\n\", report)\n"
   ]
  }
 ],
 "metadata": {
  "kernelspec": {
   "display_name": "Python 3",
   "language": "python",
   "name": "python3"
  },
  "language_info": {
   "codemirror_mode": {
    "name": "ipython",
    "version": 3
   },
   "file_extension": ".py",
   "mimetype": "text/x-python",
   "name": "python",
   "nbconvert_exporter": "python",
   "pygments_lexer": "ipython3",
   "version": "3.10.2"
  }
 },
 "nbformat": 4,
 "nbformat_minor": 2
}
